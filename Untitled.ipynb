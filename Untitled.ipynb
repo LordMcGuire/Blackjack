{
 "cells": [
  {
   "cell_type": "code",
   "execution_count": 6,
   "id": "53615e34-38bf-4c89-80dd-18932084c24b",
   "metadata": {},
   "outputs": [
    {
     "name": "stdout",
     "output_type": "stream",
     "text": [
      "Dealer is showing 8\n",
      "You have [10, 'K'] for a total of 20\n"
     ]
    },
    {
     "name": "stdin",
     "output_type": "stream",
     "text": [
      "1: Stay\n",
      "2: Hit\n",
      " 1\n"
     ]
    },
    {
     "name": "stdout",
     "output_type": "stream",
     "text": [
      "\n",
      "You have [10, 'K'] for a total of 20 and the dealer has [8, 4, 9] for a total of 21\n",
      "Blackjack! Dealer wins!\n"
     ]
    }
   ],
   "source": [
    "import random \n",
    "playerIn = True\n",
    "dealerIn = True\n",
    "\n",
    "# deck of cards / player dealer hand \n",
    "deck = [2,3,4,5,6,7,8,9,10,2,3,4,5,6,7,8,9,10,2,3,4,5,6,7,8,9,10,2,3,4,5,6,7,8,9,10,\n",
    "'J', 'Q', 'K', 'A', 'J', 'Q', 'K', 'A','J', 'Q', 'K', 'A','J', 'Q', 'K', 'A']\n",
    "playerHand = []\n",
    "dealerHand = []\n",
    "\n",
    "\n",
    "# deal the cards \n",
    "def dealCard(turn):\n",
    "    card = random.choice(deck)\n",
    "    turn.append(card)\n",
    "    deck.remove(card)\n",
    "\n",
    "# calculate the total of each hand \n",
    "def total(turn):\n",
    "    total = 0\n",
    "    face = ['J', 'K', 'Q']\n",
    "    for card in turn:\n",
    "        if card in range(1,11):\n",
    "            total += card \n",
    "        elif card in face:\n",
    "                total += 10\n",
    "        else:\n",
    "            if total > 11:\n",
    "                total += 1\n",
    "            else:\n",
    "                total += 11\n",
    "    return total\n",
    "\n",
    "# checking for a winner\n",
    "def revealDealerHand() :\n",
    "    if len(dealerHand) == 2:\n",
    "        return dealerHand[0]\n",
    "    elif len(dealerHand) > 2:\n",
    "        return dealerHand[0], dealerHand[1]\n",
    "\n",
    "# game loop\n",
    "for _ in range(2) : \n",
    "    dealCard(dealerHand)\n",
    "    dealCard(playerHand)\n",
    "\n",
    "while playerIn or dealerIn:\n",
    "    print(f\"Dealer is showing {revealDealerHand()}\")\n",
    "    print(f\"You have {playerHand} for a total of {total(playerHand)}\") \n",
    "    if playerIn:\n",
    "        stayOrHit = input(\"1: Stay\\n2: Hit\\n\")\n",
    "    if total(dealerHand) > 16:\n",
    "        dealerIn = False\n",
    "    else:\n",
    "        dealCard(dealerHand)\n",
    "    if stayOrHit == '1':\n",
    "        playerIn = False\n",
    "    else: \n",
    "        dealCard(playerHand)\n",
    "    if total(playerHand) >= 21:\n",
    "        break          \n",
    "    elif total(dealerHand) >= 21:\n",
    "        break\n",
    "if total(playerHand) == 21:\n",
    "    print(f\"\\nYou have {playerHand} for a total of {total(playerHand)} and the dealer has {dealerHand} for a total of {total(dealerHand)}\")\n",
    "    print(\"Blackjack! You win!\")\n",
    "elif total(dealerHand) == 21: \n",
    "    print(f\"\\nYou have {playerHand} for a total of {total(playerHand)} and the dealer has {dealerHand} for a total of {total(dealerHand)}\")\n",
    "    print(\"Blackjack! Dealer wins!\")\n",
    "elif total(playerHand) > 21:\n",
    "    print(f\"\\nYou have {playerHand} for a total of {total(playerHand)} and the dealer has {dealerHand} for a total of {total(dealerHand)}\")\n",
    "    print(\"Bust! Dealer wins!\") \n",
    "elif total(dealerHand) > 21: \n",
    "    print(f\"\\nYou have {playerHand} for a total of {total(playerHand)} and the dealer has {dealerHand} for a total of {total(dealerHand)}\")\n",
    "    print(\"Dealer busts! You win!\")\n",
    "elif 21 - total(dealerHand) < 21 - total(playerHand):\n",
    "    print(f\"\\nYou have {playerHand} for a total of {total(playerHand)} and the dealer has {dealerHand} for a total of {total(dealerHand)}\")\n",
    "    print(\"Dealer wins!\")\n",
    "elif 21 - total(dealerHand) > 21 - total(playerHand):\n",
    "    print(f\"\\nYou have {playerHand} for a total of {total(playerHand)} and the dealer has {dealerHand} for a total of {total(dealerHand)}\")\n",
    "    print(\"You win!\")"
   ]
  },
  {
   "cell_type": "code",
   "execution_count": null,
   "id": "6abac43d-03bf-4d63-946c-253930371f74",
   "metadata": {},
   "outputs": [],
   "source": []
  },
  {
   "cell_type": "code",
   "execution_count": null,
   "id": "9d648609-065e-4704-859c-ead0afecf480",
   "metadata": {},
   "outputs": [],
   "source": []
  }
 ],
 "metadata": {
  "kernelspec": {
   "display_name": "Python 3 (ipykernel)",
   "language": "python",
   "name": "python3"
  },
  "language_info": {
   "codemirror_mode": {
    "name": "ipython",
    "version": 3
   },
   "file_extension": ".py",
   "mimetype": "text/x-python",
   "name": "python",
   "nbconvert_exporter": "python",
   "pygments_lexer": "ipython3",
   "version": "3.8.10"
  }
 },
 "nbformat": 4,
 "nbformat_minor": 5
}
